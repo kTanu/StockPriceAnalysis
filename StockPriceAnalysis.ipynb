{
  "cells": [
    {
      "cell_type": "markdown",
      "metadata": {
        "id": "view-in-github",
        "colab_type": "text"
      },
      "source": [
        "<a href=\"https://colab.research.google.com/github/kTanu/StockPriceAnalysis/blob/main/StockPriceAnalysis.ipynb\" target=\"_parent\"><img src=\"https://colab.research.google.com/assets/colab-badge.svg\" alt=\"Open In Colab\"/></a>"
      ]
    },
    {
      "cell_type": "code",
      "execution_count": null,
      "metadata": {
        "id": "JbpLCdISMFIO"
      },
      "outputs": [],
      "source": [
        "#Importing the Libraries\n",
        "import pandas as pd\n",
        "import numpy as np\n",
        "import sklearn\n",
        "%matplotlib inline\n",
        "import matplotlib. pyplot as plt\n",
        "import matplotlib\n",
        "from sklearn.preprocessing import MinMaxScaler\n",
        "from keras.layers import LSTM, Dense, Dropout\n",
        "from sklearn.model_selection import TimeSeriesSplit\n",
        "from sklearn.metrics import mean_squared_error, r2_score\n",
        "import matplotlib. dates as mandates\n",
        "from sklearn.preprocessing import MinMaxScaler\n",
        "from sklearn import linear_model\n",
        "from keras.models import Sequential\n",
        "from keras.layers import Dense\n",
        "import keras.backend as K\n",
        "from keras.callbacks import EarlyStopping\n",
        "from tensorflow import keras\n",
        "from keras.layers import Conv2D, Input, MaxPool2D,Flatten, Dense, Permute, GlobalAveragePooling2D\n",
        "from keras.models import Model\n",
        "from keras.models import load_model\n",
        "from keras.layers import LSTM\n",
        "from keras.layers import LSTM\n",
        "from keras.utils.vis_utils import plot_model\n"
      ]
    },
    {
      "cell_type": "code",
      "execution_count": null,
      "metadata": {
        "colab": {
          "base_uri": "https://localhost:8080/"
        },
        "id": "hH3_yFIN2Nr-",
        "outputId": "942e145e-c35c-4534-f9ff-76baa8d6d99d"
      },
      "outputs": [
        {
          "name": "stdout",
          "output_type": "stream",
          "text": [
            "Mounted at /content/drive\n"
          ]
        }
      ],
      "source": [
        "from google.colab import drive\n",
        "drive.mount('/content/drive')"
      ]
    },
    {
      "cell_type": "code",
      "execution_count": null,
      "metadata": {
        "id": "Woo7O-hP2DGD"
      },
      "outputs": [],
      "source": [
        "import pandas as pd\n",
        "stock_data = pd.read_csv(\"/content/drive/My Drive/dataset/MSFT.csv\")\n"
      ]
    },
    {
      "cell_type": "code",
      "execution_count": null,
      "metadata": {
        "colab": {
          "base_uri": "https://localhost:8080/",
          "height": 206
        },
        "id": "2P2z7vXxcMqk",
        "outputId": "8abc473b-13fd-47c5-d4be-a8570647d91c"
      },
      "outputs": [
        {
          "data": {
            "text/html": [
              "\n",
              "  <div id=\"df-4efa8404-2785-41dd-a9d5-8859feb5110d\">\n",
              "    <div class=\"colab-df-container\">\n",
              "      <div>\n",
              "<style scoped>\n",
              "    .dataframe tbody tr th:only-of-type {\n",
              "        vertical-align: middle;\n",
              "    }\n",
              "\n",
              "    .dataframe tbody tr th {\n",
              "        vertical-align: top;\n",
              "    }\n",
              "\n",
              "    .dataframe thead th {\n",
              "        text-align: right;\n",
              "    }\n",
              "</style>\n",
              "<table border=\"1\" class=\"dataframe\">\n",
              "  <thead>\n",
              "    <tr style=\"text-align: right;\">\n",
              "      <th></th>\n",
              "      <th>Date</th>\n",
              "      <th>Open</th>\n",
              "      <th>High</th>\n",
              "      <th>Low</th>\n",
              "      <th>Close</th>\n",
              "      <th>Adj Close</th>\n",
              "      <th>Volume</th>\n",
              "    </tr>\n",
              "  </thead>\n",
              "  <tbody>\n",
              "    <tr>\n",
              "      <th>0</th>\n",
              "      <td>1986-03-13</td>\n",
              "      <td>0.088542</td>\n",
              "      <td>0.101563</td>\n",
              "      <td>0.088542</td>\n",
              "      <td>0.097222</td>\n",
              "      <td>0.061434</td>\n",
              "      <td>1031788800</td>\n",
              "    </tr>\n",
              "    <tr>\n",
              "      <th>1</th>\n",
              "      <td>1986-03-14</td>\n",
              "      <td>0.097222</td>\n",
              "      <td>0.102431</td>\n",
              "      <td>0.097222</td>\n",
              "      <td>0.100694</td>\n",
              "      <td>0.063628</td>\n",
              "      <td>308160000</td>\n",
              "    </tr>\n",
              "    <tr>\n",
              "      <th>2</th>\n",
              "      <td>1986-03-17</td>\n",
              "      <td>0.100694</td>\n",
              "      <td>0.103299</td>\n",
              "      <td>0.100694</td>\n",
              "      <td>0.102431</td>\n",
              "      <td>0.064725</td>\n",
              "      <td>133171200</td>\n",
              "    </tr>\n",
              "    <tr>\n",
              "      <th>3</th>\n",
              "      <td>1986-03-18</td>\n",
              "      <td>0.102431</td>\n",
              "      <td>0.103299</td>\n",
              "      <td>0.098958</td>\n",
              "      <td>0.099826</td>\n",
              "      <td>0.063079</td>\n",
              "      <td>67766400</td>\n",
              "    </tr>\n",
              "    <tr>\n",
              "      <th>4</th>\n",
              "      <td>1986-03-19</td>\n",
              "      <td>0.099826</td>\n",
              "      <td>0.100694</td>\n",
              "      <td>0.097222</td>\n",
              "      <td>0.098090</td>\n",
              "      <td>0.061982</td>\n",
              "      <td>47894400</td>\n",
              "    </tr>\n",
              "  </tbody>\n",
              "</table>\n",
              "</div>\n",
              "      <button class=\"colab-df-convert\" onclick=\"convertToInteractive('df-4efa8404-2785-41dd-a9d5-8859feb5110d')\"\n",
              "              title=\"Convert this dataframe to an interactive table.\"\n",
              "              style=\"display:none;\">\n",
              "        \n",
              "  <svg xmlns=\"http://www.w3.org/2000/svg\" height=\"24px\"viewBox=\"0 0 24 24\"\n",
              "       width=\"24px\">\n",
              "    <path d=\"M0 0h24v24H0V0z\" fill=\"none\"/>\n",
              "    <path d=\"M18.56 5.44l.94 2.06.94-2.06 2.06-.94-2.06-.94-.94-2.06-.94 2.06-2.06.94zm-11 1L8.5 8.5l.94-2.06 2.06-.94-2.06-.94L8.5 2.5l-.94 2.06-2.06.94zm10 10l.94 2.06.94-2.06 2.06-.94-2.06-.94-.94-2.06-.94 2.06-2.06.94z\"/><path d=\"M17.41 7.96l-1.37-1.37c-.4-.4-.92-.59-1.43-.59-.52 0-1.04.2-1.43.59L10.3 9.45l-7.72 7.72c-.78.78-.78 2.05 0 2.83L4 21.41c.39.39.9.59 1.41.59.51 0 1.02-.2 1.41-.59l7.78-7.78 2.81-2.81c.8-.78.8-2.07 0-2.86zM5.41 20L4 18.59l7.72-7.72 1.47 1.35L5.41 20z\"/>\n",
              "  </svg>\n",
              "      </button>\n",
              "      \n",
              "  <style>\n",
              "    .colab-df-container {\n",
              "      display:flex;\n",
              "      flex-wrap:wrap;\n",
              "      gap: 12px;\n",
              "    }\n",
              "\n",
              "    .colab-df-convert {\n",
              "      background-color: #E8F0FE;\n",
              "      border: none;\n",
              "      border-radius: 50%;\n",
              "      cursor: pointer;\n",
              "      display: none;\n",
              "      fill: #1967D2;\n",
              "      height: 32px;\n",
              "      padding: 0 0 0 0;\n",
              "      width: 32px;\n",
              "    }\n",
              "\n",
              "    .colab-df-convert:hover {\n",
              "      background-color: #E2EBFA;\n",
              "      box-shadow: 0px 1px 2px rgba(60, 64, 67, 0.3), 0px 1px 3px 1px rgba(60, 64, 67, 0.15);\n",
              "      fill: #174EA6;\n",
              "    }\n",
              "\n",
              "    [theme=dark] .colab-df-convert {\n",
              "      background-color: #3B4455;\n",
              "      fill: #D2E3FC;\n",
              "    }\n",
              "\n",
              "    [theme=dark] .colab-df-convert:hover {\n",
              "      background-color: #434B5C;\n",
              "      box-shadow: 0px 1px 3px 1px rgba(0, 0, 0, 0.15);\n",
              "      filter: drop-shadow(0px 1px 2px rgba(0, 0, 0, 0.3));\n",
              "      fill: #FFFFFF;\n",
              "    }\n",
              "  </style>\n",
              "\n",
              "      <script>\n",
              "        const buttonEl =\n",
              "          document.querySelector('#df-4efa8404-2785-41dd-a9d5-8859feb5110d button.colab-df-convert');\n",
              "        buttonEl.style.display =\n",
              "          google.colab.kernel.accessAllowed ? 'block' : 'none';\n",
              "\n",
              "        async function convertToInteractive(key) {\n",
              "          const element = document.querySelector('#df-4efa8404-2785-41dd-a9d5-8859feb5110d');\n",
              "          const dataTable =\n",
              "            await google.colab.kernel.invokeFunction('convertToInteractive',\n",
              "                                                     [key], {});\n",
              "          if (!dataTable) return;\n",
              "\n",
              "          const docLinkHtml = 'Like what you see? Visit the ' +\n",
              "            '<a target=\"_blank\" href=https://colab.research.google.com/notebooks/data_table.ipynb>data table notebook</a>'\n",
              "            + ' to learn more about interactive tables.';\n",
              "          element.innerHTML = '';\n",
              "          dataTable['output_type'] = 'display_data';\n",
              "          await google.colab.output.renderOutput(dataTable, element);\n",
              "          const docLink = document.createElement('div');\n",
              "          docLink.innerHTML = docLinkHtml;\n",
              "          element.appendChild(docLink);\n",
              "        }\n",
              "      </script>\n",
              "    </div>\n",
              "  </div>\n",
              "  "
            ],
            "text/plain": [
              "         Date      Open      High       Low     Close  Adj Close      Volume\n",
              "0  1986-03-13  0.088542  0.101563  0.088542  0.097222   0.061434  1031788800\n",
              "1  1986-03-14  0.097222  0.102431  0.097222  0.100694   0.063628   308160000\n",
              "2  1986-03-17  0.100694  0.103299  0.100694  0.102431   0.064725   133171200\n",
              "3  1986-03-18  0.102431  0.103299  0.098958  0.099826   0.063079    67766400\n",
              "4  1986-03-19  0.099826  0.100694  0.097222  0.098090   0.061982    47894400"
            ]
          },
          "execution_count": 3,
          "metadata": {},
          "output_type": "execute_result"
        }
      ],
      "source": [
        "stock_data.head()"
      ]
    },
    {
      "cell_type": "code",
      "execution_count": null,
      "metadata": {
        "colab": {
          "base_uri": "https://localhost:8080/"
        },
        "id": "fDPfM-ACS3ip",
        "outputId": "dd90a0fb-9a15-43df-fb78-670e1ad384f7"
      },
      "outputs": [
        {
          "name": "stdout",
          "output_type": "stream",
          "text": [
            "<class 'pandas.core.frame.DataFrame'>\n",
            "RangeIndex: 9083 entries, 0 to 9082\n",
            "Data columns (total 7 columns):\n",
            " #   Column     Non-Null Count  Dtype  \n",
            "---  ------     --------------  -----  \n",
            " 0   Date       9083 non-null   object \n",
            " 1   Open       9083 non-null   float64\n",
            " 2   High       9083 non-null   float64\n",
            " 3   Low        9083 non-null   float64\n",
            " 4   Close      9083 non-null   float64\n",
            " 5   Adj Close  9083 non-null   float64\n",
            " 6   Volume     9083 non-null   int64  \n",
            "dtypes: float64(5), int64(1), object(1)\n",
            "memory usage: 496.9+ KB\n"
          ]
        }
      ],
      "source": [
        "stock_data.info()"
      ]
    },
    {
      "cell_type": "code",
      "execution_count": null,
      "metadata": {
        "colab": {
          "base_uri": "https://localhost:8080/"
        },
        "id": "zDpJjgkPS9ws",
        "outputId": "b8e14357-d0d7-4a55-ddef-8b5c0381cdcf"
      },
      "outputs": [
        {
          "name": "stdout",
          "output_type": "stream",
          "text": [
            "Dataframe Shape:  (9083, 7)\n",
            "Null Value Present:  False\n"
          ]
        }
      ],
      "source": [
        "#Print the shape of Dataframe  and Check for Null Values\n",
        "print(\"Dataframe Shape: \", stock_data.shape)\n",
        "print(\"Null Value Present: \", stock_data.isnull().values.any())\n"
      ]
    },
    {
      "cell_type": "code",
      "execution_count": null,
      "metadata": {
        "colab": {
          "base_uri": "https://localhost:8080/",
          "height": 282
        },
        "id": "PDl42vUGZDzf",
        "outputId": "72e0eb6e-c299-40c2-c9e1-2522c14fc39d"
      },
      "outputs": [
        {
          "data": {
            "text/plain": [
              "<matplotlib.axes._subplots.AxesSubplot at 0x7f3a083f4610>"
            ]
          },
          "execution_count": 6,
          "metadata": {},
          "output_type": "execute_result"
        },
        {
          "data": {
            "image/png": "[encoded data removed]",
            "text/plain": [
              "<Figure size 432x288 with 1 Axes>"
            ]
          },
          "metadata": {},
          "output_type": "display_data"
        }
      ],
      "source": [
        "#Plot the True Adj Close Value\n",
        "stock_data['Adj Close'].plot()"
      ]
    },
    {
      "cell_type": "code",
      "execution_count": null,
      "metadata": {
        "id": "2On13i6AZM6Y"
      },
      "outputs": [],
      "source": [
        "#Set Target Variable\n",
        "output_var = pd.DataFrame(stock_data['Adj Close'])\n",
        "#Selecting the Features\n",
        "features = ['Open','High','Low','Volume']"
      ]
    },
    {
      "cell_type": "code",
      "execution_count": null,
      "metadata": {
        "colab": {
          "base_uri": "https://localhost:8080/",
          "height": 206
        },
        "id": "Ma6YrR6pZPby",
        "outputId": "f6ddfe0c-b70d-4ebb-e261-ff69337cda2e"
      },
      "outputs": [
        {
          "data": {
            "text/html": [
              "\n",
              "  <div id=\"df-08f05289-5a2c-46c2-a0c6-21c06ac52264\">\n",
              "    <div class=\"colab-df-container\">\n",
              "      <div>\n",
              "<style scoped>\n",
              "    .dataframe tbody tr th:only-of-type {\n",
              "        vertical-align: middle;\n",
              "    }\n",
              "\n",
              "    .dataframe tbody tr th {\n",
              "        vertical-align: top;\n",
              "    }\n",
              "\n",
              "    .dataframe thead th {\n",
              "        text-align: right;\n",
              "    }\n",
              "</style>\n",
              "<table border=\"1\" class=\"dataframe\">\n",
              "  <thead>\n",
              "    <tr style=\"text-align: right;\">\n",
              "      <th></th>\n",
              "      <th>Open</th>\n",
              "      <th>High</th>\n",
              "      <th>Low</th>\n",
              "      <th>Volume</th>\n",
              "    </tr>\n",
              "  </thead>\n",
              "  <tbody>\n",
              "    <tr>\n",
              "      <th>0</th>\n",
              "      <td>0.000000</td>\n",
              "      <td>0.000027</td>\n",
              "      <td>0.000000</td>\n",
              "      <td>1.000000</td>\n",
              "    </tr>\n",
              "    <tr>\n",
              "      <th>1</th>\n",
              "      <td>0.000025</td>\n",
              "      <td>0.000030</td>\n",
              "      <td>0.000025</td>\n",
              "      <td>0.297096</td>\n",
              "    </tr>\n",
              "    <tr>\n",
              "      <th>2</th>\n",
              "      <td>0.000035</td>\n",
              "      <td>0.000032</td>\n",
              "      <td>0.000036</td>\n",
              "      <td>0.127119</td>\n",
              "    </tr>\n",
              "    <tr>\n",
              "      <th>3</th>\n",
              "      <td>0.000040</td>\n",
              "      <td>0.000032</td>\n",
              "      <td>0.000030</td>\n",
              "      <td>0.063588</td>\n",
              "    </tr>\n",
              "    <tr>\n",
              "      <th>4</th>\n",
              "      <td>0.000033</td>\n",
              "      <td>0.000025</td>\n",
              "      <td>0.000025</td>\n",
              "      <td>0.044285</td>\n",
              "    </tr>\n",
              "  </tbody>\n",
              "</table>\n",
              "</div>\n",
              "      <button class=\"colab-df-convert\" onclick=\"convertToInteractive('df-08f05289-5a2c-46c2-a0c6-21c06ac52264')\"\n",
              "              title=\"Convert this dataframe to an interactive table.\"\n",
              "              style=\"display:none;\">\n",
              "        \n",
              "  <svg xmlns=\"http://www.w3.org/2000/svg\" height=\"24px\"viewBox=\"0 0 24 24\"\n",
              "       width=\"24px\">\n",
              "    <path d=\"M0 0h24v24H0V0z\" fill=\"none\"/>\n",
              "    <path d=\"M18.56 5.44l.94 2.06.94-2.06 2.06-.94-2.06-.94-.94-2.06-.94 2.06-2.06.94zm-11 1L8.5 8.5l.94-2.06 2.06-.94-2.06-.94L8.5 2.5l-.94 2.06-2.06.94zm10 10l.94 2.06.94-2.06 2.06-.94-2.06-.94-.94-2.06-.94 2.06-2.06.94z\"/><path d=\"M17.41 7.96l-1.37-1.37c-.4-.4-.92-.59-1.43-.59-.52 0-1.04.2-1.43.59L10.3 9.45l-7.72 7.72c-.78.78-.78 2.05 0 2.83L4 21.41c.39.39.9.59 1.41.59.51 0 1.02-.2 1.41-.59l7.78-7.78 2.81-2.81c.8-.78.8-2.07 0-2.86zM5.41 20L4 18.59l7.72-7.72 1.47 1.35L5.41 20z\"/>\n",
              "  </svg>\n",
              "      </button>\n",
              "      \n",
              "  <style>\n",
              "    .colab-df-container {\n",
              "      display:flex;\n",
              "      flex-wrap:wrap;\n",
              "      gap: 12px;\n",
              "    }\n",
              "\n",
              "    .colab-df-convert {\n",
              "      background-color: #E8F0FE;\n",
              "      border: none;\n",
              "      border-radius: 50%;\n",
              "      cursor: pointer;\n",
              "      display: none;\n",
              "      fill: #1967D2;\n",
              "      height: 32px;\n",
              "      padding: 0 0 0 0;\n",
              "      width: 32px;\n",
              "    }\n",
              "\n",
              "    .colab-df-convert:hover {\n",
              "      background-color: #E2EBFA;\n",
              "      box-shadow: 0px 1px 2px rgba(60, 64, 67, 0.3), 0px 1px 3px 1px rgba(60, 64, 67, 0.15);\n",
              "      fill: #174EA6;\n",
              "    }\n",
              "\n",
              "    [theme=dark] .colab-df-convert {\n",
              "      background-color: #3B4455;\n",
              "      fill: #D2E3FC;\n",
              "    }\n",
              "\n",
              "    [theme=dark] .colab-df-convert:hover {\n",
              "      background-color: #434B5C;\n",
              "      box-shadow: 0px 1px 3px 1px rgba(0, 0, 0, 0.15);\n",
              "      filter: drop-shadow(0px 1px 2px rgba(0, 0, 0, 0.3));\n",
              "      fill: #FFFFFF;\n",
              "    }\n",
              "  </style>\n",
              "\n",
              "      <script>\n",
              "        const buttonEl =\n",
              "          document.querySelector('#df-08f05289-5a2c-46c2-a0c6-21c06ac52264 button.colab-df-convert');\n",
              "        buttonEl.style.display =\n",
              "          google.colab.kernel.accessAllowed ? 'block' : 'none';\n",
              "\n",
              "        async function convertToInteractive(key) {\n",
              "          const element = document.querySelector('#df-08f05289-5a2c-46c2-a0c6-21c06ac52264');\n",
              "          const dataTable =\n",
              "            await google.colab.kernel.invokeFunction('convertToInteractive',\n",
              "                                                     [key], {});\n",
              "          if (!dataTable) return;\n",
              "\n",
              "          const docLinkHtml = 'Like what you see? Visit the ' +\n",
              "            '<a target=\"_blank\" href=https://colab.research.google.com/notebooks/data_table.ipynb>data table notebook</a>'\n",
              "            + ' to learn more about interactive tables.';\n",
              "          element.innerHTML = '';\n",
              "          dataTable['output_type'] = 'display_data';\n",
              "          await google.colab.output.renderOutput(dataTable, element);\n",
              "          const docLink = document.createElement('div');\n",
              "          docLink.innerHTML = docLinkHtml;\n",
              "          element.appendChild(docLink);\n",
              "        }\n",
              "      </script>\n",
              "    </div>\n",
              "  </div>\n",
              "  "
            ],
            "text/plain": [
              "       Open      High       Low    Volume\n",
              "0  0.000000  0.000027  0.000000  1.000000\n",
              "1  0.000025  0.000030  0.000025  0.297096\n",
              "2  0.000035  0.000032  0.000036  0.127119\n",
              "3  0.000040  0.000032  0.000030  0.063588\n",
              "4  0.000033  0.000025  0.000025  0.044285"
            ]
          },
          "execution_count": 8,
          "metadata": {},
          "output_type": "execute_result"
        }
      ],
      "source": [
        "#Scaling\n",
        "from sklearn.preprocessing import MinMaxScaler\n",
        "scaler = MinMaxScaler()\n",
        "feature_transform = scaler.fit_transform(stock_data[features])\n",
        "feature_transform= pd.DataFrame(columns=features, data=feature_transform, index=stock_data.index)\n",
        "feature_transform.head()"
      ]
    },
    {
      "cell_type": "code",
      "execution_count": null,
      "metadata": {
        "id": "H8Zdr_2VZTPM"
      },
      "outputs": [],
      "source": [
        "#Splitting to Training set and Test set\n",
        "from sklearn.model_selection import TimeSeriesSplit\n",
        "timesplit= TimeSeriesSplit(n_splits=10)\n",
        "for train_index, test_index in timesplit.split(feature_transform):\n",
        "        X_train, X_test = feature_transform[:len(train_index)], feature_transform[len(train_index): (len(train_index)+len(test_index))]\n",
        "        y_train, y_test = output_var[:len(train_index)].values.ravel(), output_var[len(train_index): (len(train_index)+len(test_index))].values.ravel()"
      ]
    },
    {
      "cell_type": "code",
      "execution_count": null,
      "metadata": {
        "id": "wNDvAuJaZV6a"
      },
      "outputs": [],
      "source": [
        "#Process the data for LSTM\n",
        "trainX =np.array(X_train)\n",
        "testX =np.array(X_test)\n",
        "X_train = trainX.reshape(X_train.shape[0], 1, X_train.shape[1])\n",
        "X_test = testX.reshape(X_test.shape[0], 1, X_test.shape[1])"
      ]
    },
    {
      "cell_type": "code",
      "execution_count": null,
      "metadata": {
        "colab": {
          "base_uri": "https://localhost:8080/",
          "height": 312
        },
        "id": "GP_MYxwgZYjT",
        "outputId": "fe3bbe15-c405-4b80-9fb3-c87434b52c84"
      },
      "outputs": [
        {
          "data": {
            "image/png": "[encoded data removed]",
            "text/plain": [
              "<IPython.core.display.Image object>"
            ]
          },
          "execution_count": 13,
          "metadata": {},
          "output_type": "execute_result"
        }
      ],
      "source": [
        "#Building the LSTM Model\n",
        "lstm = Sequential()\n",
        "lstm.add(LSTM(32, input_shape=(1, trainX.shape[1]), activation='relu', return_sequences=False))\n",
        "lstm.add(Dense(1))\n",
        "lstm.compile(loss='mean_squared_error', optimizer='adam')\n",
        "plot_model(lstm, show_shapes=True, show_layer_names=True)"
      ]
    },
    {
      "cell_type": "code",
      "execution_count": null,
      "metadata": {
        "colab": {
          "base_uri": "https://localhost:8080/"
        },
        "id": "N8gHqNUgZfyP",
        "outputId": "5aedc545-85e2-413a-a4dd-317b9b9345ad"
      },
      "outputs": [
        {
          "name": "stdout",
          "output_type": "stream",
          "text": [
            "Epoch 1/100\n",
            "1033/1033 [==============================] - 4s 2ms/step - loss: 101.5057\n",
            "Epoch 2/100\n",
            "1033/1033 [==============================] - 3s 3ms/step - loss: 213.6254\n",
            "Epoch 3/100\n",
            "1033/1033 [==============================] - 3s 3ms/step - loss: 156.4832\n",
            "Epoch 4/100\n",
            "1033/1033 [==============================] - 3s 3ms/step - loss: 89.1116\n",
            "Epoch 5/100\n",
            "1033/1033 [==============================] - 3s 3ms/step - loss: 44.8870\n",
            "Epoch 6/100\n",
            "1033/1033 [==============================] - 3s 3ms/step - loss: 18.4709\n",
            "Epoch 7/100\n",
            "1033/1033 [==============================] - 3s 3ms/step - loss: 6.9575\n",
            "Epoch 8/100\n",
            "1033/1033 [==============================] - 3s 2ms/step - loss: 3.4724\n",
            "Epoch 9/100\n",
            "1033/1033 [==============================] - 2s 2ms/step - loss: 2.3885\n",
            "Epoch 10/100\n",
            "1033/1033 [==============================] - 2s 2ms/step - loss: 1.8533\n",
            "Epoch 11/100\n",
            "1033/1033 [==============================] - 3s 3ms/step - loss: 1.5231\n",
            "Epoch 12/100\n",
            "1033/1033 [==============================] - 3s 2ms/step - loss: 1.3196\n",
            "Epoch 13/100\n",
            "1033/1033 [==============================] - 3s 2ms/step - loss: 1.2006\n",
            "Epoch 14/100\n",
            "1033/1033 [==============================] - 3s 2ms/step - loss: 1.1330\n",
            "Epoch 15/100\n",
            "1033/1033 [==============================] - 3s 3ms/step - loss: 1.0938\n",
            "Epoch 16/100\n",
            "1033/1033 [==============================] - 2s 2ms/step - loss: 1.0698\n",
            "Epoch 17/100\n",
            "1033/1033 [==============================] - 3s 3ms/step - loss: 1.0539\n",
            "Epoch 18/100\n",
            "1033/1033 [==============================] - 3s 3ms/step - loss: 1.0426\n",
            "Epoch 19/100\n",
            "1033/1033 [==============================] - 3s 3ms/step - loss: 1.0338\n",
            "Epoch 20/100\n",
            "1033/1033 [==============================] - 3s 3ms/step - loss: 1.0265\n",
            "Epoch 21/100\n",
            "1033/1033 [==============================] - 2s 2ms/step - loss: 1.0202\n",
            "Epoch 22/100\n",
            "1033/1033 [==============================] - 3s 3ms/step - loss: 1.0145\n",
            "Epoch 23/100\n",
            "1033/1033 [==============================] - 3s 2ms/step - loss: 1.0092\n",
            "Epoch 24/100\n",
            "1033/1033 [==============================] - 3s 3ms/step - loss: 1.0043\n",
            "Epoch 25/100\n",
            "1033/1033 [==============================] - 5s 5ms/step - loss: 0.9997\n",
            "Epoch 26/100\n",
            "1033/1033 [==============================] - 3s 3ms/step - loss: 0.9953\n",
            "Epoch 27/100\n",
            "1033/1033 [==============================] - 3s 3ms/step - loss: 0.9911\n",
            "Epoch 28/100\n",
            "1033/1033 [==============================] - 3s 2ms/step - loss: 0.9872\n",
            "Epoch 29/100\n",
            "1033/1033 [==============================] - 3s 2ms/step - loss: 0.9835\n",
            "Epoch 30/100\n",
            "1033/1033 [==============================] - 3s 2ms/step - loss: 0.9799\n",
            "Epoch 31/100\n",
            "1033/1033 [==============================] - 2s 2ms/step - loss: 0.9765\n",
            "Epoch 32/100\n",
            "1033/1033 [==============================] - 3s 2ms/step - loss: 0.9732\n",
            "Epoch 33/100\n",
            "1033/1033 [==============================] - 3s 2ms/step - loss: 0.9701\n",
            "Epoch 34/100\n",
            "1033/1033 [==============================] - 3s 3ms/step - loss: 0.9672\n",
            "Epoch 35/100\n",
            "1033/1033 [==============================] - 2s 2ms/step - loss: 0.9644\n",
            "Epoch 36/100\n",
            "1033/1033 [==============================] - 3s 3ms/step - loss: 0.9617\n",
            "Epoch 37/100\n",
            "1033/1033 [==============================] - 2s 2ms/step - loss: 0.9591\n",
            "Epoch 38/100\n",
            "1033/1033 [==============================] - 2s 2ms/step - loss: 0.9566\n",
            "Epoch 39/100\n",
            "1033/1033 [==============================] - 3s 2ms/step - loss: 0.9542\n",
            "Epoch 40/100\n",
            "1033/1033 [==============================] - 2s 2ms/step - loss: 0.9519\n",
            "Epoch 41/100\n",
            "1033/1033 [==============================] - 3s 3ms/step - loss: 0.9498\n",
            "Epoch 42/100\n",
            "1033/1033 [==============================] - 3s 2ms/step - loss: 0.9477\n",
            "Epoch 43/100\n",
            "1033/1033 [==============================] - 3s 2ms/step - loss: 0.9457\n",
            "Epoch 44/100\n",
            "1033/1033 [==============================] - 2s 2ms/step - loss: 0.9437\n",
            "Epoch 45/100\n",
            "1033/1033 [==============================] - 3s 2ms/step - loss: 0.9419\n",
            "Epoch 46/100\n",
            "1033/1033 [==============================] - 2s 2ms/step - loss: 0.9401\n",
            "Epoch 47/100\n",
            "1033/1033 [==============================] - 2s 2ms/step - loss: 0.9383\n",
            "Epoch 48/100\n",
            "1033/1033 [==============================] - 3s 2ms/step - loss: 0.9367\n",
            "Epoch 49/100\n",
            "1033/1033 [==============================] - 2s 2ms/step - loss: 0.9351\n",
            "Epoch 50/100\n",
            "1033/1033 [==============================] - 2s 2ms/step - loss: 0.9335\n",
            "Epoch 51/100\n",
            "1033/1033 [==============================] - 2s 2ms/step - loss: 0.9320\n",
            "Epoch 52/100\n",
            "1033/1033 [==============================] - 2s 2ms/step - loss: 0.9306\n",
            "Epoch 53/100\n",
            "1033/1033 [==============================] - 3s 3ms/step - loss: 0.9292\n",
            "Epoch 54/100\n",
            "1033/1033 [==============================] - 2s 2ms/step - loss: 0.9278\n",
            "Epoch 55/100\n",
            "1033/1033 [==============================] - 2s 2ms/step - loss: 0.9265\n",
            "Epoch 56/100\n",
            "1033/1033 [==============================] - 3s 2ms/step - loss: 0.9252\n",
            "Epoch 57/100\n",
            "1033/1033 [==============================] - 3s 3ms/step - loss: 0.9240\n",
            "Epoch 58/100\n",
            "1033/1033 [==============================] - 3s 3ms/step - loss: 0.9228\n",
            "Epoch 59/100\n",
            "1033/1033 [==============================] - 3s 2ms/step - loss: 0.9217\n",
            "Epoch 60/100\n",
            "1033/1033 [==============================] - 3s 2ms/step - loss: 0.9206\n",
            "Epoch 61/100\n",
            "1033/1033 [==============================] - 3s 3ms/step - loss: 0.9195\n",
            "Epoch 62/100\n",
            "1033/1033 [==============================] - 3s 3ms/step - loss: 0.9184\n",
            "Epoch 63/100\n",
            "1033/1033 [==============================] - 3s 2ms/step - loss: 0.9174\n",
            "Epoch 64/100\n",
            "1033/1033 [==============================] - 3s 3ms/step - loss: 0.9164\n",
            "Epoch 65/100\n",
            "1033/1033 [==============================] - 3s 3ms/step - loss: 0.9155\n",
            "Epoch 66/100\n",
            "1033/1033 [==============================] - 2s 2ms/step - loss: 0.9145\n",
            "Epoch 67/100\n",
            "1033/1033 [==============================] - 3s 3ms/step - loss: 0.9136\n",
            "Epoch 68/100\n",
            "1033/1033 [==============================] - 3s 3ms/step - loss: 0.9127\n",
            "Epoch 69/100\n",
            "1033/1033 [==============================] - 3s 2ms/step - loss: 0.9119\n",
            "Epoch 70/100\n",
            "1033/1033 [==============================] - 2s 2ms/step - loss: 0.9111\n",
            "Epoch 71/100\n",
            "1033/1033 [==============================] - 3s 3ms/step - loss: 0.9102\n",
            "Epoch 72/100\n",
            "1033/1033 [==============================] - 3s 3ms/step - loss: 0.9095\n",
            "Epoch 73/100\n",
            "1033/1033 [==============================] - 2s 2ms/step - loss: 0.9087\n",
            "Epoch 74/100\n",
            "1033/1033 [==============================] - 2s 2ms/step - loss: 0.9079\n",
            "Epoch 75/100\n",
            "1033/1033 [==============================] - 2s 2ms/step - loss: 0.9072\n",
            "Epoch 76/100\n",
            "1033/1033 [==============================] - 3s 2ms/step - loss: 0.9065\n",
            "Epoch 77/100\n",
            "1033/1033 [==============================] - 3s 2ms/step - loss: 0.9058\n",
            "Epoch 78/100\n",
            "1033/1033 [==============================] - 3s 2ms/step - loss: 0.9051\n",
            "Epoch 79/100\n",
            "1033/1033 [==============================] - 3s 3ms/step - loss: 0.9045\n",
            "Epoch 80/100\n",
            "1033/1033 [==============================] - 3s 3ms/step - loss: 0.9038\n",
            "Epoch 81/100\n",
            "1033/1033 [==============================] - 3s 3ms/step - loss: 0.9032\n",
            "Epoch 82/100\n",
            "1033/1033 [==============================] - 3s 3ms/step - loss: 0.9026\n",
            "Epoch 83/100\n",
            "1033/1033 [==============================] - 3s 3ms/step - loss: 0.9020\n",
            "Epoch 84/100\n",
            "1033/1033 [==============================] - 3s 3ms/step - loss: 0.9015\n",
            "Epoch 85/100\n",
            "1033/1033 [==============================] - 3s 2ms/step - loss: 0.9009\n",
            "Epoch 86/100\n",
            "1033/1033 [==============================] - 3s 3ms/step - loss: 0.9004\n",
            "Epoch 87/100\n",
            "1033/1033 [==============================] - 3s 3ms/step - loss: 0.8998\n",
            "Epoch 88/100\n",
            "1033/1033 [==============================] - 3s 3ms/step - loss: 0.8993\n",
            "Epoch 89/100\n",
            "1033/1033 [==============================] - 3s 3ms/step - loss: 0.8988\n",
            "Epoch 90/100\n",
            "1033/1033 [==============================] - 3s 3ms/step - loss: 0.8984\n",
            "Epoch 91/100\n",
            "1033/1033 [==============================] - 3s 3ms/step - loss: 0.8979\n",
            "Epoch 92/100\n",
            "1033/1033 [==============================] - 3s 2ms/step - loss: 0.8975\n",
            "Epoch 93/100\n",
            "1033/1033 [==============================] - 2s 2ms/step - loss: 0.8970\n",
            "Epoch 94/100\n",
            "1033/1033 [==============================] - 3s 2ms/step - loss: 0.8966\n",
            "Epoch 95/100\n",
            "1033/1033 [==============================] - 3s 2ms/step - loss: 0.8962\n",
            "Epoch 96/100\n",
            "1033/1033 [==============================] - 3s 2ms/step - loss: 0.8958\n",
            "Epoch 97/100\n",
            "1033/1033 [==============================] - 3s 2ms/step - loss: 0.8955\n",
            "Epoch 98/100\n",
            "1033/1033 [==============================] - 3s 3ms/step - loss: 0.8951\n",
            "Epoch 99/100\n",
            "1033/1033 [==============================] - 3s 3ms/step - loss: 0.8948\n",
            "Epoch 100/100\n",
            "1033/1033 [==============================] - 3s 3ms/step - loss: 0.8944\n"
          ]
        }
      ],
      "source": [
        "#Model Training\n",
        "\n",
        "history=lstm.fit(X_train, y_train, epochs=100, batch_size=8, verbose=1, shuffle=False)"
      ]
    },
    {
      "cell_type": "code",
      "execution_count": null,
      "metadata": {
        "id": "YxDnMg9RZiTY"
      },
      "outputs": [],
      "source": [
        "#LSTM Prediction\n",
        "y_pred= lstm.predict(X_test)"
      ]
    },
    {
      "cell_type": "code",
      "execution_count": null,
      "metadata": {
        "colab": {
          "base_uri": "https://localhost:8080/",
          "height": 295
        },
        "id": "hHxIFzYEZllS",
        "outputId": "07280dd3-14af-42d7-daf2-5892fffb9288"
      },
      "outputs": [
        {
          "data": {
            "image/png": "[encoded data removed]",
            "text/plain": [
              "<Figure size 432x288 with 1 Axes>"
            ]
          },
          "metadata": {},
          "output_type": "display_data"
        }
      ],
      "source": [
        "#Predicted vs True Adj Close Value – LSTM\n",
        "plt.plot(y_test, label='True Value')\n",
        "plt.plot(y_pred, label='LSTM Value')\n",
        "plt.title(\"Prediction by LSTM\")\n",
        "plt.xlabel('Time Scale')\n",
        "plt.ylabel('Scaled USD')\n",
        "plt.legend()\n",
        "plt.show()"
      ]
    },
    {
      "cell_type": "code",
      "execution_count": null,
      "metadata": {
        "id": "XgZkQ92qRe6F"
      },
      "outputs": [],
      "source": [
        "lstm.compile(loss='categorical_crossentropy',\n",
        "              optimizer='adam',\n",
        "              metrics=['accuracy'])"
      ]
    },
    {
      "cell_type": "code",
      "execution_count": null,
      "metadata": {
        "colab": {
          "base_uri": "https://localhost:8080/"
        },
        "id": "Snk8MpYJRzS8",
        "outputId": "b086046f-935e-48a3-8342-d6e6f6066d47"
      },
      "outputs": [
        {
          "name": "stdout",
          "output_type": "stream",
          "text": [
            "Shape of Label tensor:  (8258, 6166)\n"
          ]
        }
      ],
      "source": [
        "# converting categorical variables in y_train to numerical variables\n",
        "y_train_dummies = pd.get_dummies(y_train).values\n",
        "print('Shape of Label tensor: ', y_train_dummies.shape)"
      ]
    },
    {
      "cell_type": "code",
      "execution_count": null,
      "metadata": {
        "colab": {
          "base_uri": "https://localhost:8080/"
        },
        "id": "waExXK1rkS_5",
        "outputId": "9c049d49-42a5-4ff5-f7bd-885c24a43bd1"
      },
      "outputs": [
        {
          "name": "stdout",
          "output_type": "stream",
          "text": [
            "INFO:tensorflow:Assets written to: Msft.h100/assets\n"
          ]
        },
        {
          "name": "stderr",
          "output_type": "stream",
          "text": [
            "WARNING:absl:<keras.layers.recurrent.LSTMCell object at 0x7fe46de571d0> has the same name 'LSTMCell' as a built-in Keras object. Consider renaming <class 'keras.layers.recurrent.LSTMCell'> to avoid naming conflicts when loading with `tf.keras.models.load_model`. If renaming is not possible, pass the object in the `custom_objects` parameter of the load function.\n"
          ]
        }
      ],
      "source": [
        "lstm.save('Msft.h100')"
      ]
    },
    {
      "cell_type": "code",
      "execution_count": null,
      "metadata": {
        "colab": {
          "base_uri": "https://localhost:8080/"
        },
        "id": "5m_SVzsdmGXT",
        "outputId": "b744a6a0-bca3-47a2-d096-6d739b386a7d"
      },
      "outputs": [
        {
          "name": "stdout",
          "output_type": "stream",
          "text": [
            "Shape of Label tensor:  (825, 814)\n"
          ]
        }
      ],
      "source": [
        "# converting categorical variables in y_train to numerical variables\n",
        "y_test_dummies = pd.get_dummies(y_test).values\n",
        "print('Shape of Label tensor: ', y_test_dummies.shape)"
      ]
    },
    {
      "cell_type": "code",
      "execution_count": null,
      "metadata": {
        "colab": {
          "background_save": true,
          "base_uri": "https://localhost:8080/",
          "height": 217
        },
        "id": "TT3YcOK5--LZ",
        "outputId": "82849737-bcac-4047-f8b0-45cdd8d0c2ab"
      },
      "outputs": [
        {
          "ename": "NameError",
          "evalue": "ignored",
          "output_type": "error",
          "traceback": [
            "\u001b[0;31m---------------------------------------------------------------------------\u001b[0m",
            "\u001b[0;31mNameError\u001b[0m                                 Traceback (most recent call last)",
            "\u001b[0;32m<ipython-input-18-b61f6f11bd02>\u001b[0m in \u001b[0;36m<module>\u001b[0;34m()\u001b[0m\n\u001b[1;32m      9\u001b[0m \u001b[0;34m\u001b[0m\u001b[0m\n\u001b[1;32m     10\u001b[0m \u001b[0;31m# Test accuracy\u001b[0m\u001b[0;34m\u001b[0m\u001b[0;34m\u001b[0m\u001b[0;34m\u001b[0m\u001b[0m\n\u001b[0;32m---> 11\u001b[0;31m \u001b[0maccuracy\u001b[0m \u001b[0;34m=\u001b[0m \u001b[0maccuracy_metric\u001b[0m\u001b[0;34m(\u001b[0m\u001b[0mactual\u001b[0m\u001b[0;34m,\u001b[0m\u001b[0mpredicted\u001b[0m\u001b[0;34m)\u001b[0m\u001b[0;34m\u001b[0m\u001b[0;34m\u001b[0m\u001b[0m\n\u001b[0m\u001b[1;32m     12\u001b[0m \u001b[0mprint\u001b[0m\u001b[0;34m(\u001b[0m\u001b[0maccuracy\u001b[0m\u001b[0;34m)\u001b[0m\u001b[0;34m\u001b[0m\u001b[0;34m\u001b[0m\u001b[0m\n",
            "\u001b[0;31mNameError\u001b[0m: name 'actual' is not defined"
          ]
        }
      ],
      "source": [
        "\n",
        "# accuracy\n",
        "def accuracy_metric(actual,predicted):\n",
        "\tcorrect = 0\n",
        "\tfor i in range(len(actual)):\n",
        "\t\tif actual[i] == predicted[i]:\n",
        "\t\t\tcorrect += 1\n",
        "\treturn correct / float(len(actual)) * 100.0\n",
        " \n",
        "# Test accuracy\n",
        "accuracy = accuracy_metric(actual,predicted)\n",
        "print(accuracy)"
      ]
    }
  ],
  "metadata": {
    "colab": {
      "provenance": [],
      "include_colab_link": true
    },
    "kernelspec": {
      "display_name": "Python 3",
      "name": "python3"
    },
    "language_info": {
      "name": "python"
    }
  },
  "nbformat": 4,
  "nbformat_minor": 0
}